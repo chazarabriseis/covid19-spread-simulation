{
 "cells": [
  {
   "cell_type": "markdown",
   "metadata": {},
   "source": [
    "# Simulation of Covid19 spread"
   ]
  },
  {
   "cell_type": "code",
   "execution_count": 1,
   "metadata": {
    "ExecuteTime": {
     "end_time": "2020-05-05T11:46:40.710385Z",
     "start_time": "2020-05-05T11:46:31.307780Z"
    }
   },
   "outputs": [],
   "source": [
    "import matplotlib.pyplot as plt\n",
    "%matplotlib inline\n",
    "import ipywidgets as widgets\n",
    "from ipywidgets import interact, interact_manual\n",
    "import pandas as pd\n",
    "from modsim import *     # source: https://github.com/AllenDowney/ModSimPy"
   ]
  },
  {
   "cell_type": "markdown",
   "metadata": {},
   "source": [
    "## Loading data to compare simulation with\n",
    "\n",
    "Source: https://github.com/datasets/covid-19"
   ]
  },
  {
   "cell_type": "code",
   "execution_count": 2,
   "metadata": {
    "ExecuteTime": {
     "end_time": "2020-05-05T11:46:44.473666Z",
     "start_time": "2020-05-05T11:46:44.396667Z"
    }
   },
   "outputs": [],
   "source": [
    "filepath_CSV = \"C:/Users/julia.baldauf/Desktop/Julia/Scripts/covid-19/data/time-series-19-covid-combined.csv\"\n",
    "covid19_data = pd.read_csv(filepath_CSV, delimiter=',')"
   ]
  },
  {
   "cell_type": "markdown",
   "metadata": {},
   "source": [
    "getting the data for Germany from the day the first sick person is reported"
   ]
  },
  {
   "cell_type": "code",
   "execution_count": 3,
   "metadata": {
    "ExecuteTime": {
     "end_time": "2020-05-05T11:46:46.702821Z",
     "start_time": "2020-05-05T11:46:45.986667Z"
    }
   },
   "outputs": [],
   "source": [
    "country = 'Germany'\n",
    "covid19_data_mask = covid19_data.apply(lambda row: row['Country/Region'] == country and row['Confirmed'] > 0, axis=1)\n",
    "covid19_data_country = covid19_data[covid19_data_mask].reset_index()"
   ]
  },
  {
   "cell_type": "markdown",
   "metadata": {},
   "source": [
    "## Helper functions for the simulation"
   ]
  },
  {
   "cell_type": "code",
   "execution_count": 4,
   "metadata": {
    "ExecuteTime": {
     "end_time": "2020-05-05T11:46:48.539420Z",
     "start_time": "2020-05-05T11:46:48.532666Z"
    }
   },
   "outputs": [],
   "source": [
    "def plot_results(results, system):\n",
    "    \"\"\"Plot the results \n",
    "    \"\"\"\n",
    "    #plot(results.H, '--', label='Gesund simuliert')\n",
    "    plot(results.C/system.population, '--', label='Confirmed simuliert', color = 'red')\n",
    "    plot(results.R/system.population, '--', label='Recovered simuliert', color = 'green')\n",
    "    plot(results.D/system.population, '--', label='Deaths simuliert', color = 'black')\n",
    "    plot(covid19_data_country['Confirmed']/system.population, label='Confirmed', color = 'red')\n",
    "    plot(covid19_data_country['Recovered']/system.population, label='Recovered', color = 'green')\n",
    "    plot(covid19_data_country['Deaths']/system.population, label='Deaths', color = 'black')\n",
    "    decorate(xlabel='Zeit (Tage)',\n",
    "             ylabel='Anteil der Population')\n",
    "    plt.show"
   ]
  },
  {
   "cell_type": "code",
   "execution_count": 14,
   "metadata": {
    "ExecuteTime": {
     "end_time": "2020-05-05T11:47:51.024264Z",
     "start_time": "2020-05-05T11:47:51.015669Z"
    }
   },
   "outputs": [],
   "source": [
    "def make_system_action():\n",
    "    \"\"\"Make a system object for the model.\n",
    "    \n",
    "    healthy: Number of healthy people\n",
    "    confirmed: Number of confirmed cases\n",
    "    recovered: Number of recovered people\n",
    "    deaths: Number of people that died\n",
    "    t0: start\n",
    "    t_end: simulation end\n",
    "    \n",
    "    returns: System object\n",
    "    \"\"\"\n",
    "    population = 80000001\n",
    "    confirmed = 1\n",
    "    healthy = population - confirmed\n",
    "    recovered=0\n",
    "    deaths=0\n",
    "    init = State(H=healthy, C=confirmed, R=recovered, D=deaths)\n",
    "\n",
    "    N_intensivcare_beds = 20000\n",
    "    p_need_hospital = 0.0001\n",
    "    \n",
    "    t0 = 0\n",
    "    t_end = len(covid19_data_country) # in Tagen die von der Simulation vorhanden sind\n",
    "    \n",
    "    return System(init=init, t0=t0, t_end=t_end, population=population,\n",
    "                  N_intensivcare_beds= N_intensivcare_beds, p_need_hospital=p_need_hospital)"
   ]
  },
  {
   "cell_type": "code",
   "execution_count": 15,
   "metadata": {
    "ExecuteTime": {
     "end_time": "2020-05-05T11:47:51.767674Z",
     "start_time": "2020-05-05T11:47:51.757168Z"
    }
   },
   "outputs": [],
   "source": [
    "def run_simulation(system, update_func, action_parameters):\n",
    "    \"\"\"Runs a simulation of the system.\n",
    "        \n",
    "    system: System object\n",
    "    update_func: function that updates state\n",
    "    \n",
    "    returns: TimeFrame\n",
    "    \"\"\"\n",
    "    frame = TimeFrame(columns=system.init.index)\n",
    "    frame.row[system.t0] = system.init\n",
    "    \n",
    "    for t in linrange(system.t0, system.t_end):\n",
    "        frame.row[t+1] = update_func(frame.row[t], t, system, action_parameters, frame)\n",
    "    \n",
    "    return frame"
   ]
  },
  {
   "cell_type": "code",
   "execution_count": 16,
   "metadata": {
    "ExecuteTime": {
     "end_time": "2020-05-05T11:47:52.469174Z",
     "start_time": "2020-05-05T11:47:52.459671Z"
    }
   },
   "outputs": [],
   "source": [
    "def calculate_probabilities(parameters, system):\n",
    "    p_infection =  parameters['p_0'] * parameters['people_density'] * parameters['infection_cross_section'] / (parameters['infection_days']  * system.population)\n",
    "    p_recovery = 1 / parameters['recovery_days'] \n",
    "    return p_infection, p_recovery"
   ]
  },
  {
   "cell_type": "markdown",
   "metadata": {},
   "source": [
    "The update function calculates the new state for a given time t and applies the probablities aplying at that time. At the moment one can pass on one action, for example social distancing which will reduce the people density."
   ]
  },
  {
   "cell_type": "code",
   "execution_count": 29,
   "metadata": {
    "ExecuteTime": {
     "end_time": "2020-05-05T11:49:29.999672Z",
     "start_time": "2020-05-05T11:49:29.985171Z"
    }
   },
   "outputs": [],
   "source": [
    "def update_func_action(state, t, system, action_parameters, frame):\n",
    "    \"\"\"Update the model\n",
    "    \n",
    "    state: State with variables H=healthy, C=confirmed, R=recovered, D=deaths\n",
    "    t: time step\n",
    "    system: System with variables t0=t0, t_end=t_end, population=population,N_intensivcare_beds: N_intensivcare_beds \n",
    "    \n",
    "    returns: State object\n",
    "    \"\"\"    \n",
    "    h, c, r, d = state\n",
    "    \n",
    "    if (c+h+r+d) - system.population > 0.001:\n",
    "        print('Hmmmm haben wir Einwohner verloren oder gewonnen? %s' % str(c+h+r+d))\n",
    "    \n",
    "    if t > action_parameters['action1']['t_start']*(system.t_end-system.t0) and t < action_parameters['action1']['t_end']*(system.t_end-system.t0):\n",
    "        p_infection, p_recovery = calculate_probabilities(action_parameters['action1'], system)\n",
    "        delta_recovered = p_recovery * c # (frame.loc[t - action_parameters['no_action']['recovery_days']]['C']-frame.loc[t - action_parameters['no_action']['recovery_days'] -1]['C'])\n",
    "        \n",
    "    else:\n",
    "        p_infection, p_recovery = calculate_probabilities(action_parameters['no_action'], system)\n",
    "        if t > action_parameters['no_action']['recovery_days']:\n",
    "            delta_recovered = p_recovery * c # (frame.loc[t - action_parameters['no_action']['recovery_days']]['C'] - frame.loc[t - action_parameters['no_action']['recovery_days'] -1]['C'])\n",
    "        else:\n",
    "            delta_recovered = p_recovery * c\n",
    "        \n",
    "    delta_confirmed = p_infection * c * h \n",
    "    if system.p_need_hospital *c > system.N_intensivcare_beds:\n",
    "        delta_deaths =  system.probability_need_hospital * c\n",
    "    else:\n",
    "        delta_deaths = action_parameters['no_action']['mortality_rate'] * c\n",
    "        \n",
    "    \n",
    "    h -= delta_confirmed\n",
    "    c += delta_confirmed - delta_recovered - delta_deaths\n",
    "    r += delta_recovered\n",
    "    d += delta_deaths\n",
    "    \n",
    "    return State(H=h, C=c, R=r, D=d)"
   ]
  },
  {
   "cell_type": "markdown",
   "metadata": {},
   "source": [
    "## Defining parameters for the model"
   ]
  },
  {
   "cell_type": "code",
   "execution_count": 116,
   "metadata": {
    "ExecuteTime": {
     "end_time": "2020-05-05T11:56:47.283812Z",
     "start_time": "2020-05-05T11:56:47.271807Z"
    }
   },
   "outputs": [],
   "source": [
    "action_parameters = {'no_action' :\n",
    "                            {\n",
    "                            'p_0' : 0.21,                        \n",
    "                            'infection_days' : 1.8,             \n",
    "                            'infection_cross_section' : 4.2,    \n",
    "                            'people_density' : 1,           \n",
    "                            'recovery_days' : 4,              \n",
    "                            'mortality_rate' : 0.004,          \n",
    "                            },\n",
    "                     'action1' :\n",
    "                             {\n",
    "                            'p_0' : 0.3,     \n",
    "                            'infection_days' : 3,      \n",
    "                            'infection_cross_section' : 4,\n",
    "                            'people_density' : 0.2,   \n",
    "                            'recovery_days' : 10,    \n",
    "                            't_start' : 0.5, # fraction of total simulation duration when action starts\n",
    "                            't_end' : 1    # fraction of total simulation duration when action ends, 1 = until the end\n",
    "                            }\n",
    "                        }"
   ]
  },
  {
   "cell_type": "markdown",
   "metadata": {},
   "source": [
    "## Running the simulation"
   ]
  },
  {
   "cell_type": "code",
   "execution_count": 117,
   "metadata": {
    "ExecuteTime": {
     "end_time": "2020-05-05T11:56:48.185424Z",
     "start_time": "2020-05-05T11:56:48.177818Z"
    }
   },
   "outputs": [],
   "source": [
    "system = make_system_action()"
   ]
  },
  {
   "cell_type": "code",
   "execution_count": 118,
   "metadata": {
    "ExecuteTime": {
     "end_time": "2020-05-05T11:56:49.314306Z",
     "start_time": "2020-05-05T11:56:48.839311Z"
    }
   },
   "outputs": [],
   "source": [
    "results = run_simulation(system, update_func_action, action_parameters)"
   ]
  },
  {
   "cell_type": "code",
   "execution_count": 119,
   "metadata": {
    "ExecuteTime": {
     "end_time": "2020-05-05T11:56:50.361905Z",
     "start_time": "2020-05-05T11:56:49.900310Z"
    }
   },
   "outputs": [
    {
     "data": {
      "image/png": "[encoded data removed]",
      "text/plain": [
       "<Figure size 432x288 with 1 Axes>"
      ]
     },
     "metadata": {},
     "output_type": "display_data"
    }
   ],
   "source": [
    "plot_results(results, system)"
   ]
  },
  {
   "cell_type": "code",
   "execution_count": 34,
   "metadata": {
    "ExecuteTime": {
     "end_time": "2020-05-05T11:49:40.527671Z",
     "start_time": "2020-05-05T11:49:40.348170Z"
    }
   },
   "outputs": [
    {
     "data": {
      "application/vnd.jupyter.widget-view+json": {
       "model_id": "7eb4a58b6522443bb562e7e987030f80",
       "version_major": 2,
       "version_minor": 0
      },
      "text/plain": [
       "interactive(children=(FloatSlider(value=0.3, description='p_0_0', max=0.8999999999999999, min=-0.3), IntSlider…"
      ]
     },
     "metadata": {},
     "output_type": "display_data"
    }
   ],
   "source": [
    "@interact_manual\n",
    "def pltslider(p_0_0=0.3, infection_days_0=2, infection_cross_section_0= 2, people_density_0= 0.5, \n",
    "              recovery_days_0=10, p_0_1=0.3, infection_days_1= 3, infection_cross_section_1=1, \n",
    "              people_density_1=0.2, recovery_days_1 = 10, t_start_1=0.5, t_end_1=1):\n",
    "    action_parameters = {'no_action' :\n",
    "                            {\n",
    "                            'p_0' : p_0_0,     \n",
    "                            'infection_days' : infection_days_0,       \n",
    "                            'infection_cross_section' : infection_cross_section_0, \n",
    "                            'people_density' : people_density_0,  \n",
    "                            'recovery_days' : recovery_days_0,   \n",
    "                            'mortality_rate' : 0.004,     \n",
    "                            },\n",
    "                     'action1' :\n",
    "                             {\n",
    "                            'p_0' : p_0_1,     \n",
    "                            'infection_days' : infection_days_1,       \n",
    "                            'infection_cross_section' : infection_cross_section_1,    \n",
    "                            'people_density' : people_density_1,  \n",
    "                            'recovery_days' : recovery_days_1,   \n",
    "                            't_start' : t_start_1, # fraction of total simulation duration when action starts\n",
    "                            't_end' : t_end_1      # fraction of total simulation duration when action ends, 1 = until the end\n",
    "                            }\n",
    "                        }\n",
    "    system = make_system_action()\n",
    "    results = run_simulation(system, update_func_action, action_parameters)\n",
    "    return plot_results(results, system)"
   ]
  },
  {
   "cell_type": "code",
   "execution_count": 121,
   "metadata": {
    "ExecuteTime": {
     "end_time": "2020-05-05T11:57:45.992814Z",
     "start_time": "2020-05-05T11:57:45.917805Z"
    }
   },
   "outputs": [
    {
     "data": {
      "application/vnd.jupyter.widget-view+json": {
       "model_id": "e0fd4ced9f1343cdaa09720201a65c61",
       "version_major": 2,
       "version_minor": 0
      },
      "text/plain": [
       "interactive(children=(Text(value='Confirmed', description='column'), IntSlider(value=50, description='x', max=…"
      ]
     },
     "metadata": {},
     "output_type": "display_data"
    }
   ],
   "source": [
    "@interact\n",
    "def show_articles_more_than(column='Confirmed', x=50):\n",
    "    return covid19_data_country.loc[x:x+10]"
   ]
  },
  {
   "cell_type": "code",
   "execution_count": null,
   "metadata": {},
   "outputs": [],
   "source": []
  }
 ],
 "metadata": {
  "kernelspec": {
   "display_name": "Python 3",
   "language": "python",
   "name": "python3"
  },
  "language_info": {
   "codemirror_mode": {
    "name": "ipython",
    "version": 3
   },
   "file_extension": ".py",
   "mimetype": "text/x-python",
   "name": "python",
   "nbconvert_exporter": "python",
   "pygments_lexer": "ipython3",
   "version": "3.7.1"
  },
  "latex_envs": {
   "LaTeX_envs_menu_present": true,
   "autoclose": false,
   "autocomplete": true,
   "bibliofile": "biblio.bib",
   "cite_by": "apalike",
   "current_citInitial": 1,
   "eqLabelWithNumbers": true,
   "eqNumInitial": 1,
   "hotkeys": {
    "equation": "Ctrl-E",
    "itemize": "Ctrl-I"
   },
   "labels_anchors": false,
   "latex_user_defs": false,
   "report_style_numbering": false,
   "user_envs_cfg": false
  },
  "toc": {
   "base_numbering": 1,
   "nav_menu": {},
   "number_sections": true,
   "sideBar": true,
   "skip_h1_title": false,
   "title_cell": "Table of Contents",
   "title_sidebar": "Contents",
   "toc_cell": false,
   "toc_position": {},
   "toc_section_display": true,
   "toc_window_display": true
  },
  "varInspector": {
   "cols": {
    "lenName": 16,
    "lenType": 16,
    "lenVar": 40
   },
   "kernels_config": {
    "python": {
     "delete_cmd_postfix": "",
     "delete_cmd_prefix": "del ",
     "library": "var_list.py",
     "varRefreshCmd": "print(var_dic_list())"
    },
    "r": {
     "delete_cmd_postfix": ") ",
     "delete_cmd_prefix": "rm(",
     "library": "var_list.r",
     "varRefreshCmd": "cat(var_dic_list()) "
    }
   },
   "position": {
    "height": "424.85px",
    "left": "1545px",
    "right": "20px",
    "top": "120px",
    "width": "357px"
   },
   "types_to_exclude": [
    "module",
    "function",
    "builtin_function_or_method",
    "instance",
    "_Feature"
   ],
   "window_display": true
  }
 },
 "nbformat": 4,
 "nbformat_minor": 2
}
